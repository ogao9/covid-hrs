{
 "cells": [
  {
   "cell_type": "markdown",
   "metadata": {},
   "source": [
    "# HRS Covid Data Exploration\n",
    "\n",
    "In this notebook, I explore the Health and Retirement Study (HRS) COVID-19 Project Dataset, focusing on how different racial and socioeconomic groups delayed their access to medical care in the midst of the Covid-19 pandemic.\n",
    "\n",
    "+ Data Source: https://hrsdata.isr.umich.edu/data-products/public-survey-data\n",
    "+ Questionnaires: https://hrs.isr.umich.edu/documentation/questionnaires\n",
    "+ Tracker Codebook: https://hrs.isr.umich.edu/sites/default/files/meta/tracker/codebook/trk2018tr_ri.htm\n",
    "+ RAND Codebook: https://hrs.isr.umich.edu/sites/default/files/meta/2018/core/codebook/h18_00.html\n",
    "+ Notebook Styling: https://dadoverflow.com/2019/06/20/ten-things-i-like-to-do-in-jupyter-markdown/"
   ]
  },
  {
   "cell_type": "markdown",
   "metadata": {},
   "source": [
    "<div class=\"alert alert-block alert-success\">\n",
    "    <h1>Table of Contents</h1>\n",
    "    <ul>\n",
    "        <li><a href=#7.29>7/29 - Predict Delayed Dental and Routine Delayed among blacks and hispanic Only</a></li>\n",
    "        <li><a href=#7.16>7/16 - Predict Delayed Surgery and Examine Delay Reasons</a></li>\n",
    "        <li><a href=#6.28>6/28 - Add Disease Burden Variable</a></li>\n",
    "        <li><a href=#6.14>6/14 - Add Self-Reported-Health Variable</a></li>\n",
    "        <li><a href=#6.2>6/2 - Create Covid Exposure and Covid Death Variables</a></li>\n",
    "        <li><a href=#5.26>5/26 - Delay Dental Care and Routine Checkup</a></li>\n",
    "        <li><a href=#5.24>5/24 - Create delayReason Variable</a></li>\n",
    "        <li><a href=#5.20>5/20 - First Logistic Regression modeling delayed care</a></li>\n",
    "        <li><a href=#5.19>5/19 - Data Cleaning and creating new race variables</a></li>\n",
    "        <li><a href=#npwhereselect>np.where() and np.select()</a></li>\n",
    "        <li><a href=#appendix>Appendix</a></li>\n",
    "    </ul>\n",
    "</div>"
   ]
  },
  {
   "cell_type": "markdown",
   "metadata": {},
   "source": [
    "## Imports"
   ]
  },
  {
   "cell_type": "code",
   "execution_count": null,
   "metadata": {},
   "outputs": [],
   "source": [
    "import pandas as pd\n",
    "import numpy as np\n",
    "import seaborn as sns\n",
    "import matplotlib.pyplot as plt\n",
    "%matplotlib inline"
   ]
  },
  {
   "cell_type": "code",
   "execution_count": null,
   "metadata": {
    "scrolled": false
   },
   "outputs": [],
   "source": [
    "df = pd.read_csv('cleaned_df.csv')\n",
    "df.head()"
   ]
  },
  {
   "cell_type": "code",
   "execution_count": null,
   "metadata": {},
   "outputs": [],
   "source": [
    "#converting df to a csv file\n",
    "#df.to_csv('cleaned_df.csv', index=False)"
   ]
  },
  {
   "cell_type": "markdown",
   "metadata": {},
   "source": [
    "## Utilities"
   ]
  },
  {
   "cell_type": "code",
   "execution_count": null,
   "metadata": {},
   "outputs": [],
   "source": [
    "def runLogModel(data, dependentVar, predictorsList):\n",
    "    predictorsString = \" + \".join(predictorsList)\n",
    "    \n",
    "    import statsmodels.api as sm\n",
    "    from statsmodels.formula.api import logit\n",
    "    logit = logit(f\"{dependentVar} ~ {predictorsString}\", data=data).fit()\n",
    "    print(logit.summary())"
   ]
  },
  {
   "cell_type": "code",
   "execution_count": null,
   "metadata": {},
   "outputs": [],
   "source": [
    "def makeNewVar(newName, codeName, yesNum, isValid):\n",
    "    df[newName] = np.select([df[codeName]==yesNum,df[codeName]<=isValid], [1, 0], default=np.nan)\n",
    "    print(df[newName].value_counts(dropna=False))"
   ]
  },
  {
   "cell_type": "code",
   "execution_count": null,
   "metadata": {},
   "outputs": [],
   "source": [
    "core_predictors = [\"age\", \"edu_years\", \"male\", \"nonHispanicBlack\", \"nonHispanicOther\", \"HispanicAll\"]\n",
    "exposure_predictors = [\"covidExposure\", \"covidDeath\"]\n",
    "health_predictors = [\"selfRateHealth\", \"diseaseBurden\"]\n",
    "marital_predictors = [\"divorced\", \"widowed\", \"neverMarried\", \"usBorn\"]\n",
    "insurance_predictors = [\"medicare\", \"medicaidCurrent\", \"militaryHealth\", \"privateInsurance\", \"publicInsurance\"]\n",
    "to_predict = [\"delayedCare\", \"RoutineDelayed\", \"DentalDelayed\", \"SurgeryDelayed\"]"
   ]
  },
  {
   "cell_type": "markdown",
   "metadata": {},
   "source": [
    "---"
   ]
  },
  {
   "cell_type": "markdown",
   "metadata": {},
   "source": [
    "## 8/12 <a name='8.12'></a>\n",
    "+ Make Working ? Variable W601\n",
    "+ W552 Covid test ? Make Variable \n",
    "+ RAND hrs 2018: Extract Household income, household wealth, household members\n",
    "+ manipulate household income: log(($income + 1) / sqrt(household members))\n",
    "+ household wealth: find negative numbers: add most negative to EVERYONE and add 1. Apply the above log formula\n",
    "+ Run model with everyone"
   ]
  },
  {
   "cell_type": "code",
   "execution_count": null,
   "metadata": {},
   "outputs": [],
   "source": [
    "#read in RAND hrs 2018\n",
    "rand_df = pd.read_stata('./h18e1a_STATA/h18e1a.dta')"
   ]
  },
  {
   "cell_type": "code",
   "execution_count": null,
   "metadata": {},
   "outputs": [],
   "source": [
    "rand_df.head()"
   ]
  },
  {
   "cell_type": "code",
   "execution_count": null,
   "metadata": {},
   "outputs": [],
   "source": [
    "#Was your work affected because of the coronavirus pandemic?\n",
    "#1. yes 5. no 6. was not working 8,9 dont'know #1 and 5  means you were working, 6 means no\n",
    "df[\"RCOVW601\"].value_counts(dropna=False)"
   ]
  },
  {
   "cell_type": "code",
   "execution_count": null,
   "metadata": {},
   "outputs": [],
   "source": [
    "#\"Have you been tested for Covid 19\"\n",
    "# 1: Yes 5: no 8,9: dont-know\n",
    "df[\"RCOVW552\"].value_counts(dropna=False)"
   ]
  },
  {
   "cell_type": "code",
   "execution_count": null,
   "metadata": {},
   "outputs": [],
   "source": [
    "makeNewVar(\"testedForCovid19\", \"RCOVW552\", 1, 5)"
   ]
  },
  {
   "cell_type": "code",
   "execution_count": null,
   "metadata": {},
   "outputs": [],
   "source": [
    "df[\"isWorking\"] = np.select([df[\"RCOVW601\"]==6,df[\"RCOVW601\"]<=5], [0, 1], default=np.nan)"
   ]
  },
  {
   "cell_type": "code",
   "execution_count": null,
   "metadata": {},
   "outputs": [],
   "source": [
    "df[\"isWorking\"].value_counts(dropna=False)"
   ]
  },
  {
   "cell_type": "code",
   "execution_count": null,
   "metadata": {},
   "outputs": [],
   "source": [
    "extras = [\"nonHispanicWhite\", \"covidConcern\", \"delayReason\", \"isWorking\", \"testedForCovid19\", \"hhid\", \"pn\"]"
   ]
  },
  {
   "cell_type": "code",
   "execution_count": null,
   "metadata": {},
   "outputs": [],
   "source": [
    "df_to_export = df[core_predictors+exposure_predictors+health_predictors+marital_predictors+insurance_predictors+to_predict+extras]"
   ]
  },
  {
   "cell_type": "code",
   "execution_count": null,
   "metadata": {},
   "outputs": [],
   "source": [
    "#household income:  H14IFTOT"
   ]
  },
  {
   "cell_type": "code",
   "execution_count": null,
   "metadata": {},
   "outputs": [],
   "source": [
    "#household wealth: H14ATOTB"
   ]
  },
  {
   "cell_type": "code",
   "execution_count": null,
   "metadata": {},
   "outputs": [],
   "source": [
    "#number of people living in household: H14HHRES"
   ]
  },
  {
   "cell_type": "code",
   "execution_count": null,
   "metadata": {},
   "outputs": [],
   "source": [
    "rand_df = pd.read_stata('./randhrs1992_2018v1_STATA/randhrs1992_2018v1.dta', columns=[\"h14itot\",\"h14atotb\",\"h14hhres\",\"hhid\",\"pn\"])"
   ]
  },
  {
   "cell_type": "code",
   "execution_count": null,
   "metadata": {
    "scrolled": true
   },
   "outputs": [],
   "source": [
    "rand_df[\"h14itot\"].value_counts(dropna=False)"
   ]
  },
  {
   "cell_type": "code",
   "execution_count": null,
   "metadata": {},
   "outputs": [],
   "source": [
    "rand_df[\"hhIncome\"] = rand_df[\"h14itot\"]\n",
    "rand_df[\"hhWealth\"] = rand_df[\"h14atotb\"]\n",
    "rand_df[\"hhMembers\"] = rand_df[\"h14hhres\"]"
   ]
  },
  {
   "cell_type": "code",
   "execution_count": null,
   "metadata": {},
   "outputs": [],
   "source": [
    "rand_df[\"h14itot\"].describe()"
   ]
  },
  {
   "cell_type": "code",
   "execution_count": null,
   "metadata": {
    "scrolled": true
   },
   "outputs": [],
   "source": [
    "df_to_export[\"hhid\"]"
   ]
  },
  {
   "cell_type": "code",
   "execution_count": null,
   "metadata": {},
   "outputs": [],
   "source": [
    "rand_df[\"hhid\"]"
   ]
  },
  {
   "cell_type": "code",
   "execution_count": null,
   "metadata": {},
   "outputs": [],
   "source": [
    "rand_df[\"hhid\"].convert_dtypes(convert_integer=True, convert_string=False)\n",
    "rand_df[\"pn\"] = pd.to_numeric(rand_df[\"pn\"], errors='coerce')"
   ]
  },
  {
   "cell_type": "code",
   "execution_count": null,
   "metadata": {},
   "outputs": [],
   "source": [
    "rand_df[\"hhid\"] = pd.to_numeric(rand_df[\"hhid\"], errors='coerce')\n",
    "rand_df[\"pn\"] = pd.to_numeric(rand_df[\"pn\"], errors='coerce')"
   ]
  },
  {
   "cell_type": "code",
   "execution_count": null,
   "metadata": {},
   "outputs": [],
   "source": [
    "rand_df[\"pn\"]"
   ]
  },
  {
   "cell_type": "code",
   "execution_count": null,
   "metadata": {},
   "outputs": [],
   "source": [
    "rand_to_merge = rand_df[[\"hhid\",\"pn\",\"hhIncome\",\"hhWealth\",\"hhMembers\"]]"
   ]
  },
  {
   "cell_type": "code",
   "execution_count": null,
   "metadata": {
    "scrolled": true
   },
   "outputs": [],
   "source": [
    "df_to_export.merge(rand_to_merge, on=[\"hhid\", \"pn\"])"
   ]
  },
  {
   "cell_type": "code",
   "execution_count": null,
   "metadata": {},
   "outputs": [],
   "source": [
    "rand_df"
   ]
  },
  {
   "cell_type": "code",
   "execution_count": null,
   "metadata": {
    "scrolled": true
   },
   "outputs": [],
   "source": [
    "df_to_export"
   ]
  },
  {
   "cell_type": "markdown",
   "metadata": {},
   "source": [
    "## 7/29 <a name='7.29'></a>\n",
    "+ Run model to predict routinedelay and dentaldelay among blacks and hispanic Only\n",
    "+ Also look at reasons among each race group "
   ]
  },
  {
   "cell_type": "code",
   "execution_count": null,
   "metadata": {},
   "outputs": [],
   "source": [
    "dfBlack = df[df['nonHispanicBlack']==1]"
   ]
  },
  {
   "cell_type": "code",
   "execution_count": null,
   "metadata": {},
   "outputs": [],
   "source": [
    "dfBlack['nonHispanicBlack'].value_counts()"
   ]
  },
  {
   "cell_type": "code",
   "execution_count": null,
   "metadata": {
    "scrolled": true
   },
   "outputs": [],
   "source": [
    "runLogModel(dfBlack, \"RoutineDelayed\",[\"age\", \"edu_years\", \"male\"] +exposure_predictors+marital_predictors+health_predictors)"
   ]
  },
  {
   "cell_type": "code",
   "execution_count": null,
   "metadata": {},
   "outputs": [],
   "source": [
    "runLogModel(dfBlack, \"DentalDelayed\",[\"age\", \"edu_years\", \"male\"] +exposure_predictors+marital_predictors+health_predictors)"
   ]
  },
  {
   "cell_type": "code",
   "execution_count": null,
   "metadata": {},
   "outputs": [],
   "source": [
    "dfHispanic = df[df['HispanicAll']==1]"
   ]
  },
  {
   "cell_type": "code",
   "execution_count": null,
   "metadata": {},
   "outputs": [],
   "source": [
    "runLogModel(dfHispanic, \"RoutineDelayed\",[\"age\", \"edu_years\", \"male\"] +exposure_predictors+marital_predictors+health_predictors)"
   ]
  },
  {
   "cell_type": "code",
   "execution_count": null,
   "metadata": {},
   "outputs": [],
   "source": [
    "runLogModel(dfHispanic, \"DentalDelayed\",[\"age\", \"edu_years\", \"male\"] +exposure_predictors+marital_predictors+health_predictors)"
   ]
  },
  {
   "cell_type": "code",
   "execution_count": null,
   "metadata": {},
   "outputs": [],
   "source": [
    "dfBlack[dfBlack['DentalDelayed']==1]['delayReason'].value_counts(dropna=False, normalize=True)"
   ]
  },
  {
   "cell_type": "code",
   "execution_count": null,
   "metadata": {},
   "outputs": [],
   "source": [
    "dfBlack[dfBlack['RoutineDelayed']==1]['delayReason'].value_counts(dropna=False, normalize=True)"
   ]
  },
  {
   "cell_type": "code",
   "execution_count": null,
   "metadata": {},
   "outputs": [],
   "source": [
    "dfHispanic[dfHispanic['DentalDelayed']==1]['delayReason'].value_counts(dropna=False, normalize=True)"
   ]
  },
  {
   "cell_type": "code",
   "execution_count": null,
   "metadata": {},
   "outputs": [],
   "source": [
    "dfHispanic[dfHispanic['RoutineDelayed']==1]['delayReason'].value_counts(dropna=False, normalize=True)"
   ]
  },
  {
   "cell_type": "markdown",
   "metadata": {},
   "source": [
    "## 7/16 <a name='7.16'></a>\n",
    "+ SurgeryDelay run model\n",
    "+ preventative care (routinedelay) reasons\n",
    "+ dental delay reasons"
   ]
  },
  {
   "cell_type": "code",
   "execution_count": null,
   "metadata": {},
   "outputs": [],
   "source": [
    "#change some NAN to 0 if delayCare var is 0\n",
    "df[\"delayedSurgery\"] = np.where(df['delayedCare']==0, 5, df['RCOVW582'])\n",
    "df['SurgeryDelayed'] = np.select([df['delayedSurgery']==5,df['delayedSurgery']==1], [0,1], default=np.nan)\n",
    "df['SurgeryDelayed'].value_counts(dropna=False)"
   ]
  },
  {
   "cell_type": "code",
   "execution_count": null,
   "metadata": {},
   "outputs": [],
   "source": [
    "runLogModel(df, \"SurgeryDelayed\",core_predictors+exposure_predictors+marital_predictors+health_predictors)"
   ]
  },
  {
   "cell_type": "markdown",
   "metadata": {},
   "source": [
    "### delayReason\n",
    "1. COULDN'T AFFORD IT\n",
    "2. COULDN'T GET AN APPOINTMENT\n",
    "3. THE CLINIC/HOSPITAL/DOCTOR'S OFFICE CANCELLED, CLOSED, OR SUGGESTED RESCHEDULING\n",
    "4. DECIDED IT COULD WAIT \n",
    "5. WAS AFRAID TO GO \\\n",
    "7 OTHER (SPECIFY) (W581) \\\n",
    "8 DON'T KNOW \\\n",
    "9 REFUSe"
   ]
  },
  {
   "cell_type": "code",
   "execution_count": null,
   "metadata": {
    "scrolled": true
   },
   "outputs": [],
   "source": [
    "df[df['RoutineDelayed']==1]['delayReason'].value_counts(dropna=False, normalize=True)"
   ]
  },
  {
   "cell_type": "code",
   "execution_count": null,
   "metadata": {},
   "outputs": [],
   "source": [
    "df[df['DentalDelayed']==1]['delayReason'].value_counts(dropna=False, normalize=True)"
   ]
  },
  {
   "cell_type": "markdown",
   "metadata": {},
   "source": [
    "## 6/28 <a name='6.28'></a>\n",
    "+ Disease burden (0-4)\n",
    "+ publicInsurance one variable`\n",
    "+ log model defaults? weights, sampling\n",
    "    + https://www.statsmodels.org/devel/examples/notebooks/generated/glm_weights.html\n",
    "    + there is a freq_weights or var_weights parameter for the model"
   ]
  },
  {
   "cell_type": "code",
   "execution_count": null,
   "metadata": {},
   "outputs": [],
   "source": [
    "df['diseaseBurden'] = df[\"HBP\"] + df[\"Stroke\"] + df[\"heartDisease\"] + df[\"Diabetes\"]\n",
    "df['diseaseBurden'].value_counts(dropna=False)\n",
    "\n",
    "#make public insurance variable (have it or not)\n",
    "#at least one yes = 1, all no = 0, missing = np.nan\n",
    "yes_conditions = (df['medicare']==1) | (df['medicaidCurrent']==1)|(df['militaryHealth']==1)\n",
    "no_conditions = (df['medicare']==0) & (df['medicaidCurrent']==0)&(df['militaryHealth']==0)\n",
    "conditions_list = [yes_conditions, no_conditions]\n",
    "df[\"publicInsurance\"] = np.select( conditions_list, [1,0],default=np.nan )\n",
    "df[\"publicInsurance\"].value_counts(dropna=False)"
   ]
  },
  {
   "cell_type": "markdown",
   "metadata": {},
   "source": [
    "I guess if you have a missing value somewhere, I can't really assign you a disease burden. Fortnately, only max 10 people fall in this boat"
   ]
  },
  {
   "cell_type": "code",
   "execution_count": null,
   "metadata": {},
   "outputs": [],
   "source": [
    "# df['HBP'].value_counts(dropna=False)\n",
    "# df['Diabetes'].value_counts(dropna=False)\n",
    "# df['Stroke'].value_counts(dropna=False)\n",
    "# df['heartDisease'].value_counts(dropna=False)\n",
    "# df[df['HBP'].isna()]\n",
    "#checking publicInsurance variable\n",
    "#df[[\"medicare\",\"medicaidCurrent\", \"militaryHealth\",\"publicInsurance\"]].tail(20)"
   ]
  },
  {
   "cell_type": "code",
   "execution_count": null,
   "metadata": {
    "scrolled": true
   },
   "outputs": [],
   "source": [
    "runLogModel(df, \"DentalDelayed\", new_vars+core_predictors+exposure_predictors+marital_predictors+health_predictors)"
   ]
  },
  {
   "cell_type": "markdown",
   "metadata": {},
   "source": [
    "## 6/14  <a name='6.14'></a>\n",
    "+ Find self reported health, chronic illnesses (heart disease, hypertension, diabetes, stroke), health insurance (public or private)?, marital status (seperate into divorced, never married, widowed), born in US? Run with Dental Care compare with delayedCare"
   ]
  },
  {
   "cell_type": "code",
   "execution_count": null,
   "metadata": {},
   "outputs": [],
   "source": [
    "#Various Health Condition Variables\n",
    "df[\"selfRateHealth\"] = np.where(df[\"RC001\"]>5, np.nan,df[\"RC001\"])\n",
    "df['HBP'] = np.select([df['RC005']==1,df['RC005']==8], [1,np.nan], default=0)\n",
    "df['Diabetes'] = np.select([df['RC010']==1,df['RC010']==8], [1,np.nan], default=0)\n",
    "df['Stroke'] = np.select([df['RC053']==1,df['RC053']==8], [1,np.nan], default=0)\n",
    "df['heartDisease'] = np.select([df['RC036']==1,df['RC036']==8], [1,np.nan], default=0)\n",
    "df['heartDisease'].value_counts(dropna=False)"
   ]
  },
  {
   "cell_type": "code",
   "execution_count": null,
   "metadata": {},
   "outputs": [],
   "source": [
    "#marital status and usborn\n",
    "df[\"divorced\"] = np.select([df['qmarst']==2,df['qmarst']<=4], [1, 0], default=np.nan)\n",
    "df[\"widowed\"] = np.select([df['qmarst']==3,df['qmarst']<=4], [1, 0], default=np.nan)\n",
    "df[\"neverMarried\"] = np.select([df['qmarst']==4,df['qmarst']<=4], [1, 0], default=np.nan)\n",
    "\n",
    "df[\"usBorn\"] = np.select([df['usborn']==1,df['usborn']==5], [1, 0], default=np.nan)"
   ]
  },
  {
   "cell_type": "code",
   "execution_count": null,
   "metadata": {},
   "outputs": [],
   "source": [
    "def makeNewVar(newName, codeName, yesNum, isValid):\n",
    "    df[newName] = np.select([df[codeName]==yesNum,df[codeName]<=isValid], [1, 0], default=np.nan)\n",
    "    print(df[newName].value_counts(dropna=False))\n",
    "\n",
    "makeNewVar(\"medicare\", \"RC001\", 1, 5)    \n",
    "makeNewVar(\"medicaidEver\", \"RN005\", 1, 5)\n",
    "makeNewVar(\"medicaidCurrent\", \"RN006\", 1, 5) #if you asnwered No to medicaid Ever, you are fake missing here\n",
    "df[\"medicaidCurrent\"] = np.where(df[\"medicaidEver\"]==0, 0, df[\"medicaidCurrent\"]) #adjusting for said problem\n",
    "\n",
    "makeNewVar(\"militaryHealth\", \"RN007\", 1, 5)\n",
    "df[\"privateInsurance\"] = np.select([df['RN023']==0,df['RN023']<=7], [0, 1], default=np.nan)"
   ]
  },
  {
   "cell_type": "code",
   "execution_count": null,
   "metadata": {
    "scrolled": true
   },
   "outputs": [],
   "source": [
    "df[\"qmarst\"].value_counts()"
   ]
  },
  {
   "cell_type": "code",
   "execution_count": null,
   "metadata": {},
   "outputs": [],
   "source": [
    "df[\"privateInsurance\"].value_counts(dropna=False)"
   ]
  },
  {
   "cell_type": "code",
   "execution_count": null,
   "metadata": {},
   "outputs": [],
   "source": [
    "def runLogModel(data, dependentVar, predictorsList):\n",
    "    predictorsString = \" + \".join(predictorsList)\n",
    "    \n",
    "    import statsmodels.api as sm\n",
    "    from statsmodels.formula.api import logit\n",
    "    logit = logit(f\"{dependentVar} ~ {predictorsString}\", data=data).fit()\n",
    "    print(logit.summary())"
   ]
  },
  {
   "cell_type": "code",
   "execution_count": null,
   "metadata": {},
   "outputs": [],
   "source": [
    "core_predictors = [\"age\", \"edu_years\", \"male\", \"nonHispanicBlack\", \"nonHispanicOther\", \"HispanicAll\"]\n",
    "exposure_predictors = [\"covidExposure\", \"covidDeath\"]\n",
    "health_predictors = [\"selfRateHealth\", \"HBP\", \"Diabetes\", \"Stroke\", \"heartDisease\"]\n",
    "marital_predictors = [\"divorced\", \"widowed\", \"neverMarried\", \"usBorn\"]\n",
    "insurance_predictors = [\"medicare\", \"medicaidCurrent\", \"militaryHealth\", \"privateInsurance\"]"
   ]
  },
  {
   "cell_type": "markdown",
   "metadata": {},
   "source": [
    "### Models"
   ]
  },
  {
   "cell_type": "code",
   "execution_count": null,
   "metadata": {},
   "outputs": [],
   "source": [
    "predictors = core_predictors + marital_predictors + health_predictors + exposure_predictors\n",
    "runLogModel(df, \"RoutineDelayed\", predictors)"
   ]
  },
  {
   "cell_type": "markdown",
   "metadata": {},
   "source": [
    "## 6/2  <a name='6.2'></a>\n",
    "Create 2 new variables\n",
    "+ CovidExposure: Recode 551 1&2 -> 1 others ->0; 574, 577 (3 total): add this predictor\n",
    "+ covidDeath: same idea \n",
    "+ predict delayCare, delayRoutine, delayDental with the addition of these two new variables\n",
    "+ google scholars: delayedcare during covid papers exist?"
   ]
  },
  {
   "cell_type": "code",
   "execution_count": null,
   "metadata": {},
   "outputs": [],
   "source": [
    "#--- creating covidExposure ---\n",
    "df[\"RCOVW551\"].value_counts(dropna=False)\n",
    "#551 is \"YOU\"; 574 is \"anyone else in your household\"; 577 is anyone else you know\n",
    "df[\"covidExposure\"] = np.where((df[\"RCOVW551\"]<=2) | (df[\"RCOVW574\"]==1) | (df[\"RCOVW577\"]==1), 1, 0)\n",
    "\n",
    "\n",
    "#---creating covidDeath---: 578\n",
    "df[\"covidDeath\"] =  np.where(df[\"RCOVW578\"]==1, 1 , 0)\n",
    "df[\"covidDeath\"].value_counts(dropna=False)\n",
    "df[\"covidExposure\"].value_counts(dropna=False)"
   ]
  },
  {
   "cell_type": "markdown",
   "metadata": {},
   "source": [
    "### Notes\n",
    "+ Python’s or and and statements don’t work very well against Panda’s Series', so instead we need to use the bitwise or (|) and and (&)\n",
    "+ put the multiple conditions each in parens"
   ]
  },
  {
   "cell_type": "markdown",
   "metadata": {},
   "source": [
    "### Logistic Regression, RoutineDelayed w/ covidExposure and covidDeath"
   ]
  },
  {
   "cell_type": "code",
   "execution_count": null,
   "metadata": {
    "scrolled": true
   },
   "outputs": [],
   "source": [
    "import statsmodels.api as sm\n",
    "from statsmodels.formula.api import logit\n",
    "logit = logit(\"RoutineDelayed ~ covidExposure + covidDeath + age + edu_years + covidConcern + male + nonHispanicBlack + nonHispanicOther + HispanicAll\",\n",
    "              data = df).fit()\n",
    "print(logit.summary())"
   ]
  },
  {
   "cell_type": "markdown",
   "metadata": {},
   "source": [
    "### Logistic Regression, DentalDelayed w/ covidExposure and covidDeath"
   ]
  },
  {
   "cell_type": "code",
   "execution_count": null,
   "metadata": {
    "scrolled": true
   },
   "outputs": [],
   "source": [
    "import statsmodels.api as sm\n",
    "from statsmodels.formula.api import logit\n",
    "logit = logit(\"DentalDelayed ~ covidExposure + covidDeath + age + edu_years + covidConcern + male + nonHispanicBlack + nonHispanicOther + HispanicAll\",\n",
    "              data = df).fit()\n",
    "print(logit.summary())"
   ]
  },
  {
   "cell_type": "markdown",
   "metadata": {},
   "source": [
    "### Logistic Regression, delayedCare w/ covidExposure and covidDeath"
   ]
  },
  {
   "cell_type": "code",
   "execution_count": null,
   "metadata": {
    "scrolled": true
   },
   "outputs": [],
   "source": [
    "import statsmodels.api as sm\n",
    "from statsmodels.formula.api import logit\n",
    "logit = logit(\"delayedCare ~ covidExposure + covidDeath + age + edu_years + covidConcern + male + nonHispanicBlack + nonHispanicOther + HispanicAll\",\n",
    "              data = df).fit()\n",
    "print(logit.summary())"
   ]
  },
  {
   "cell_type": "markdown",
   "metadata": {},
   "source": [
    "## 5/26 <a name='5.26'></a>\n",
    "+ Type of delay: w585\n",
    "Recode: 3 -> 1 (Routine checkup or screening)\n",
    "Recode: 8 or 9 -> NaN\n",
    "Recode: all others ->0\n",
    "+ w587 dental\n",
    "delay = 1\n",
    "all others (including no delay) = 0\n",
    "+ Predicting delay care in dental and delay care in routing checkup in logistic\n",
    "#### Creating new binary vars: RoutineDelayed and Dental Delayed"
   ]
  },
  {
   "cell_type": "code",
   "execution_count": null,
   "metadata": {},
   "outputs": [],
   "source": [
    "#--- The PROCESS ---\n",
    "\n",
    "#Type of Delay (routing checkup ?)\n",
    "df[\"RCOVW585M1\"].value_counts(dropna=False)\n",
    "df[\"RoutineDelayed\"] = np.select([df[\"RCOVW585M1\"]==3, df[\"RCOVW585M1\"]==8], [1,np.nan], default=0)\n",
    "#Probably need to change some 0 to NaN..if the person had missing data for delay care column\n",
    "df[\"RoutineDelayed\"].value_counts(dropna=False)\n",
    "\n",
    "#Dental Delay\n",
    "df[\"RCOVW587\"].value_counts(dropna=False)\n",
    "df[\"DentalDelayed\"] = np.select([df[\"RCOVW587\"]==1, df[\"RCOVW585M1\"]==8], [1,np.nan], default=0)\n",
    "df[\"DentalDelayed\"].value_counts()\n",
    "\n",
    "#change some 0 to NaN..if the person had missing data for delay care column\n",
    "df[\"RoutineDelayed\"] = np.where(np.isnan(df[\"delayedCare\"]), np.nan, df[\"RoutineDelayed\"])\n",
    "df[\"RoutineDelayed\"].value_counts(dropna=False) #Corrected: 15 more nans\n",
    "\n",
    "#same thing with dental delay\n",
    "df[\"DentalDelayed\"] = np.where(np.isnan(df[\"delayedCare\"]), np.nan, df[\"DentalDelayed\"])\n",
    "df[\"DentalDelayed\"].value_counts(dropna=False) #Corrected: 15 more nans"
   ]
  },
  {
   "cell_type": "code",
   "execution_count": null,
   "metadata": {},
   "outputs": [],
   "source": [
    "#Putting it All Together: accounting for missing delayCare\n",
    "#This is because the way I coded it, if you were NaN in the routineCare,you would get 0.\n",
    "df[\"RoutineDelayed\"] = np.select([df[\"RCOVW585M1\"]==3, df[\"RCOVW585M1\"]==8], [1,np.nan], default=0)\n",
    "df[\"RoutineDelayed\"] = np.where(np.isnan(df[\"delayedCare\"]), np.nan, df[\"RoutineDelayed\"])\n",
    "\n",
    "df[\"DentalDelayed\"] = np.select([df[\"RCOVW587\"]==1, df[\"RCOVW585M1\"]==8], [1,np.nan], default=0)\n",
    "df[\"DentalDelayed\"] = np.where(np.isnan(df[\"delayedCare\"]), np.nan, df[\"DentalDelayed\"])"
   ]
  },
  {
   "cell_type": "markdown",
   "metadata": {},
   "source": [
    "### Logistic Regression, dependent var: RoutineDelayed"
   ]
  },
  {
   "cell_type": "code",
   "execution_count": null,
   "metadata": {
    "scrolled": true
   },
   "outputs": [],
   "source": [
    "import statsmodels.api as sm\n",
    "from statsmodels.formula.api import logit\n",
    "logit = logit(\"RoutineDelayed ~ age + edu_years + covidConcern + male + nonHispanicBlack + nonHispanicOther + HispanicAll\",\n",
    "              data = df).fit()\n",
    "print(logit.summary())"
   ]
  },
  {
   "cell_type": "markdown",
   "metadata": {},
   "source": [
    "### Logistic Regression, dependent var: DentalDelayed"
   ]
  },
  {
   "cell_type": "code",
   "execution_count": null,
   "metadata": {},
   "outputs": [],
   "source": [
    "import statsmodels.api as sm\n",
    "from statsmodels.formula.api import logit\n",
    "logit = logit(\"DentalDelayed ~ age + edu_years + male + nonHispanicBlack + nonHispanicOther + HispanicAll\",\n",
    "              data = df).fit()\n",
    "print(logit.summary())"
   ]
  },
  {
   "cell_type": "markdown",
   "metadata": {},
   "source": [
    "## 5/24 <a name='5.24'></a>\n",
    "### Creating delayReason Variable\n",
    "1. COULDN'T AFFORD IT\n",
    "2. COULDN'T GET AN APPOINTMENT\n",
    "3. THE CLINIC/HOSPITAL/DOCTOR'S OFFICE CANCELLED, CLOSED, OR SUGGESTED RESCHEDULING\n",
    "4. DECIDED IT COULD WAIT \n",
    "5. WAS AFRAID TO GO\n",
    "\n",
    "7 OTHER (SPECIFY) (W581)\\\n",
    "8. DON'T KNOW\\\n",
    "9. REFUSE"
   ]
  },
  {
   "cell_type": "code",
   "execution_count": null,
   "metadata": {},
   "outputs": [],
   "source": [
    "df[\"RCOVW580M1\"].value_counts(dropna=False) \n",
    "#136 answered other!! uhhh"
   ]
  },
  {
   "cell_type": "code",
   "execution_count": null,
   "metadata": {
    "scrolled": true
   },
   "outputs": [],
   "source": [
    "#those who did delay care, but gave no reason: np.nan\n",
    "#those who didn't delay care: i'll code as 0, because you're not actually \"missing\"\n",
    "df[\"delayReason\"] = np.where(df[\"delayedCare\"], df[\"RCOVW580M1\"], 0)\n",
    "\n",
    "#response 8 and 9 are also considered \"missing\"\n",
    "df[\"delayReason\"] = np.where(df[\"delayReason\"]>=8, np.nan, df[\"delayReason\"])\n",
    "df[\"delayReason\"].value_counts(dropna=False)"
   ]
  },
  {
   "cell_type": "code",
   "execution_count": null,
   "metadata": {},
   "outputs": [],
   "source": [
    "raceList=['nonHispanicWhite','nonHispanicBlack','nonHispanicOther', 'HispanicAll']\n",
    "race_counts=[]\n",
    "for race in raceList:\n",
    "    race_counts.append(len(df[df[race]==1]))\n",
    "print(race_counts)"
   ]
  },
  {
   "cell_type": "code",
   "execution_count": null,
   "metadata": {
    "scrolled": true
   },
   "outputs": [],
   "source": [
    "# Proportion of delayReason\n",
    "for race in raceList:\n",
    "    print(f\"{race}: delayReason\")\n",
    "    slice = df[df[race]==1]\n",
    "    print(slice[\"delayReason\"].value_counts(normalize=True))"
   ]
  },
  {
   "cell_type": "markdown",
   "metadata": {},
   "source": [
    "## 5/20 <a name='5.20'></a>\n",
    "+ CovidConcern by Race Summary Stats\n",
    "+ Mean age, gender distribution, schlyrs by race\n",
    "+ Logistic Regression predicting delayCare binary variable"
   ]
  },
  {
   "cell_type": "code",
   "execution_count": null,
   "metadata": {
    "scrolled": true
   },
   "outputs": [],
   "source": [
    "raceList=['nonHispanicWhite','nonHispanicBlack','nonHispanicOther', 'HispanicAll']\n",
    "for race in raceList:\n",
    "    concern_mean = df[df[race]==1][\"covidConcern\"].mean()\n",
    "    age_mean = df[df[race]==1][\"age\"].mean()\n",
    "    edu_years_mean = df[df[race]==1][\"edu_years\"].mean()\n",
    "    male_percentage = df[df[race]==1][\"male\"].mean()\n",
    "    \n",
    "    print(f\"{race}:\")\n",
    "    print(f\"cocern_mean: {concern_mean}\")\n",
    "    print(f\"age_mean: {age_mean}\")\n",
    "    print(f\"edu_years_mean: {edu_years_mean}\")\n",
    "    print(f\"male_percentage: {male_percentage}\")\n",
    "    print('\\n')"
   ]
  },
  {
   "cell_type": "markdown",
   "metadata": {},
   "source": [
    "Doing the same thing in a much easier way by using the groupby() method with an aggregation function like .mean() to extract these features with ease"
   ]
  },
  {
   "cell_type": "code",
   "execution_count": null,
   "metadata": {},
   "outputs": [],
   "source": [
    "df.groupby('nonHispanicWhite').mean()[['age','edu_years','covidConcern','male']]"
   ]
  },
  {
   "cell_type": "code",
   "execution_count": null,
   "metadata": {
    "scrolled": true
   },
   "outputs": [],
   "source": [
    "for race in raceList:\n",
    "    print(race, \"Means\")\n",
    "    print(df.groupby(race).mean()[['age','edu_years','covidConcern','male']].loc[1])\n",
    "    print('\\n')"
   ]
  },
  {
   "cell_type": "markdown",
   "metadata": {},
   "source": [
    "### Logistic Regression: Depedent Var: delayedCare"
   ]
  },
  {
   "cell_type": "markdown",
   "metadata": {},
   "source": [
    "Dependent Var: Delayed (1 or 0)\n",
    "Independent Vars: Age, edu_years, gender, covid concern, race (no white)\n",
    "How to Interpret results\n",
    "Reason for delay var by race\n",
    " "
   ]
  },
  {
   "cell_type": "code",
   "execution_count": null,
   "metadata": {},
   "outputs": [],
   "source": [
    "import statsmodels.api as sm\n",
    "from statsmodels.formula.api import logit\n",
    "logit = logit(\"delayedCare ~ age + edu_years + covidConcern + male + nonHispanicBlack + nonHispanicOther + HispanicAll\",\n",
    "              data = df).fit()\n",
    "print(logit.summary())"
   ]
  },
  {
   "cell_type": "markdown",
   "metadata": {},
   "source": [
    "### Logistic Model Interpretation\n",
    "+ log(p/1-p) = b0 + b1*female + b2*read + b3*science\n",
    "+ where p is probability of person delaying care"
   ]
  },
  {
   "cell_type": "markdown",
   "metadata": {},
   "source": [
    "## 5/19 <a name='5.19'></a>\n",
    "+ Create 4 new vars (binary): non-hispanic whites, non-hispanic blacks, hispanics, other\n",
    "+ Convert gender var from 1s and 2s to Female = 1 Male = 0 -> then get summary stats (mean)\n",
    "+ Concern about covid var (rcovv550) : code 11-100 as missing(NaN)\n",
    "+ Recode delayed care rcovv579 var: 1= true, 0=false\n",
    "+ Get percentage of each race that delayed\\\n",
    "\n",
    "--- For Later ---\n",
    "+ relationship between concern and delay care\n",
    "+ relationship between delay care and race\n",
    "+ Pandas Summary Stats Docs: https://pandas.pydata.org/pandas-docs/stable/getting_started/intro_tutorials/06_calculate_statistics.html\n"
   ]
  },
  {
   "cell_type": "markdown",
   "metadata": {},
   "source": [
    "### np.where() and np.select()\n",
    "<a name='npwhereselect'></a>\n",
    "https://www.dataquest.io/blog/tutorial-add-column-pandas-dataframe-based-on-if-else-condition/\n",
    "\n",
    "+ Using np.select(): two arguments: a list of our conditions, and a correspding list of the value we’d like to assign to each row in our new column\n",
    "+ Using np.where(): three arguments in sequence: the condition we’re testing for, the value to assign to our new column if that condition is true, and the value to assign if it is false\n",
    "+ have to use & instead of and... why?"
   ]
  },
  {
   "cell_type": "code",
   "execution_count": null,
   "metadata": {},
   "outputs": [],
   "source": [
    "# ----- For Reference -----\n",
    "# Note: value_counts exclude nan values by default\n",
    "df['race'].value_counts(dropna=False)\n",
    "# df['hispanic'].value_counts(dropna=False)\n",
    "# df['gender'].value_counts(dropna=False)\n",
    "\n",
    "# ---covid concern---\n",
    "# df[\"RCOVW550\"].value_counts(dropna=False)\n",
    "\n",
    "# ---delayed care---\n",
    "# df[\"RCOVW579\"].value_counts(dropna=False)"
   ]
  },
  {
   "cell_type": "code",
   "execution_count": null,
   "metadata": {
    "scrolled": true
   },
   "outputs": [],
   "source": [
    "df['HispanicAll'].value_counts()"
   ]
  },
  {
   "cell_type": "markdown",
   "metadata": {},
   "source": [
    "## Creating new variables\n",
    "+ nonHispanicWhite\n",
    "+ nonHispanicBlack\n",
    "+ nonHispanicOther\n",
    "+ HispanicAll\n",
    "+ male\n",
    "+ covidConcern (cleaned rcovw550)\n",
    "+ delayedCare (cleaned rcovw579)\n",
    "+ age (cleaned qage)\n",
    "+ edu_years (cleaned schlyrs)"
   ]
  },
  {
   "cell_type": "code",
   "execution_count": null,
   "metadata": {},
   "outputs": [],
   "source": [
    "#Codings for hispanic: 1,2,3 YES; 5 NO; 0 UNKNOWN\n",
    "df['nonHispanicWhite'] = np.where((df['race']==1) & (df['hispanic']==5), 1, 0)\n",
    "df['nonHispanicBlack'] = np.where((df['race']==2) & (df['hispanic']==5), 1, 0)\n",
    "df['nonHispanicOther'] = np.where((df['race']==7) & (df['hispanic']==5), 1, 0)\n",
    "df['HispanicAll'] = np.where((df['hispanic']<=3) & (df['hispanic']>0) & (df['race']!=0), 1, 0)\n",
    "\n",
    "#codings for gender: 1=male, 2=female 0=blank or unknown\n",
    "df['male'] = np.select([df['gender']==1,df['gender']==2], [1,0], default=np.nan)\n",
    "\n",
    "#coding for covid concern 550: question asked 1-10 where 10 is most concerned\n",
    "df[\"covidConcern\"] = np.where(df[\"RCOVW550\"]<=10, df[\"RCOVW550\"], np.nan)\n",
    "\n",
    "#coding for 579 delay_care: 1=yes 5=no 8 dont know 9 refuse (no 9s in dataset)\n",
    "df[\"delayedCare\"] = np.select([df[\"RCOVW579\"]==1, df[\"RCOVW579\"]==5, df[\"RCOVW579\"]==8],[1,0,np.nan])\n",
    "\n",
    "#age in 2018: 999 means \"no core interview this wave\"\n",
    "df['age'] = np.where(df['qage']==999, np.nan, df['qage'])\n",
    "\n",
    "#years of formal schooling: max is 17\n",
    "df['edu_years'] = np.where(df['schlyrs']==99, np.nan, df['schlyrs'])"
   ]
  },
  {
   "cell_type": "code",
   "execution_count": null,
   "metadata": {},
   "outputs": [],
   "source": [
    "# #Basic Checks for new columns\n",
    "# #basic check\n",
    "# df[['nonHispanicWhite','nonHispanicBlack','nonHispanicOther','HispanicAll','race', 'hispanic']]\n",
    "# df['male'].value_counts()\n",
    "# df[[\"covidConcern\", \"RCOVW550\"]]\n",
    "# #check NaN\n",
    "# df[df[\"RCOVW550\"]>10].head()"
   ]
  },
  {
   "cell_type": "code",
   "execution_count": null,
   "metadata": {},
   "outputs": [],
   "source": [
    "# ---Looking at Summary Stats\n",
    "df['age'].describe()\n",
    "df['edu_years'].describe()\n",
    "#40% of dataset are males\n",
    "df['male'].describe()\n",
    "df[\"delayedCare\"].value_counts(dropna=False)"
   ]
  },
  {
   "cell_type": "markdown",
   "metadata": {},
   "source": [
    "### Percentage of each race that delayed care"
   ]
  },
  {
   "cell_type": "code",
   "execution_count": null,
   "metadata": {},
   "outputs": [],
   "source": [
    "raceList=['nonHispanicWhite','nonHispanicBlack','nonHispanicOther', 'HispanicAll']\n",
    "total = 0;\n",
    "length = 0;\n",
    "for var in raceList:\n",
    "    length = len(df[df[var]==1])\n",
    "    total += length\n",
    "    print(f\"{var} count: {length}\")\n",
    "print(\"Total Count:\", total)\n",
    "\n",
    "#3239 checks out because people who were missing in race data could also be missing in hispanic data\n",
    "print(\"Some Math:\",3266-25-18)"
   ]
  },
  {
   "cell_type": "code",
   "execution_count": null,
   "metadata": {},
   "outputs": [],
   "source": [
    "percentage = 0;\n",
    "delayed_length = 0;\n",
    "delayedCareList=[];\n",
    "\n",
    "for var in raceList:\n",
    "    length = len(df[df[var]==1])\n",
    "    delayed_length = len(df[(df[var]==1) & (df['delayedCare']==1)])\n",
    "    percentage = delayed_length/length\n",
    "    delayedCareList.append(percentage)\n",
    "    print(f\"Percentage of {var} that delayed care: \", percentage)"
   ]
  },
  {
   "cell_type": "code",
   "execution_count": null,
   "metadata": {},
   "outputs": [],
   "source": [
    "sns.barplot(x=raceList,y=delayedCareList)\n",
    "plt.tight_layout()\n",
    "plt.title('Percentage that delayed care')"
   ]
  },
  {
   "cell_type": "markdown",
   "metadata": {},
   "source": [
    "## EDA Visualizations <a name=\"visualizations\"></a>"
   ]
  },
  {
   "cell_type": "code",
   "execution_count": null,
   "metadata": {},
   "outputs": [],
   "source": [
    "sns.displot(df, x=\"qage\")"
   ]
  },
  {
   "cell_type": "code",
   "execution_count": null,
   "metadata": {
    "scrolled": false
   },
   "outputs": [],
   "source": [
    "sns.catplot(x=\"race\", y=\"covidConcern\", data=df, kind=\"box\")"
   ]
  },
  {
   "cell_type": "code",
   "execution_count": null,
   "metadata": {},
   "outputs": [],
   "source": [
    "sns.catplot(x=\"race\", y=\"covidConcern\", data=df, kind=\"violin\")"
   ]
  },
  {
   "cell_type": "markdown",
   "metadata": {},
   "source": [
    "----------"
   ]
  },
  {
   "cell_type": "markdown",
   "metadata": {},
   "source": [
    "<div class=\"alert alert-block alert-success\">\n",
    "    <h1>Appendix</h1>\n",
    "    <a name=\"appendix\"></a>\n",
    "</div>"
   ]
  },
  {
   "cell_type": "markdown",
   "metadata": {},
   "source": [
    "## Importing Variables of Interest from the Tracker File\n",
    "This includes demographic data like age, education, race, and marital status"
   ]
  },
  {
   "cell_type": "code",
   "execution_count": null,
   "metadata": {},
   "outputs": [],
   "source": [
    "# import tracker file and extracting variables of interest\n",
    "trk = pd.read_stata('./trk2018tr_r.dta')\n",
    "vars_of_interest = ['hhid', 'pn', 'birthyr', 'race', 'hispanic', 'gender', 'degree',\n",
    "                       'secu', 'stratum', 'qalive', 'qage', 'schlyrs', 'qmarst', 'usborn']\n",
    "\n",
    "tracker_df = trk[cars_of_interest]\n",
    "\n",
    "#merge our current dataframe with tracker dataframe\n",
    "merged_df = df.merge(tracker_df, on=['hhid','pn'])\n",
    "\n",
    "#convert this df to a csv file\n",
    "merged_df.to_csv('cleaned_df.csv', index=False)"
   ]
  },
  {
   "cell_type": "markdown",
   "metadata": {},
   "source": [
    "## Importing Covid Data from .dta files (first 20 only)"
   ]
  },
  {
   "cell_type": "code",
   "execution_count": null,
   "metadata": {},
   "outputs": [],
   "source": [
    "pwd"
   ]
  },
  {
   "cell_type": "code",
   "execution_count": null,
   "metadata": {
    "scrolled": true
   },
   "outputs": [],
   "source": [
    "#Read in all the Data and put first 10 files into one dataframe\n",
    "import os\n",
    "\n",
    "allData = []\n",
    "file_path = 'C:\\\\Users\\\\olive\\\\Documents\\\\data-projects\\\\covid-HRS\\\\coviddta'\n",
    "\n",
    "#os.walk() yields 3-tuples\n",
    "for folder, sub_folders, files in os.walk(file_path):\n",
    "   \n",
    "    #print(\"Files Processed: \")\n",
    "    for f in files:\n",
    "        #print(f\"\\tfile: {f}\")\n",
    "        if(f[-5:] == \"r.dta\"):    #if filename extension is r.dta, read in the file\n",
    "            df = pd.read_stata(f\"./coviddta/{f}\")\n",
    "            allData.append(df)\n",
    "            \n",
    "from functools import reduce\n",
    "\n",
    "df = reduce(lambda dfL, dfR : pd.merge(dfL, dfR, on=['hhid', 'pn']), allData[:20])\n",
    "print(\"Number of files read:\", len(allData))"
   ]
  },
  {
   "cell_type": "markdown",
   "metadata": {},
   "source": [
    "## Merging ALL Covid data \n",
    "**Warning** Takes over 30 mins"
   ]
  },
  {
   "cell_type": "code",
   "execution_count": null,
   "metadata": {
    "scrolled": true
   },
   "outputs": [],
   "source": [
    "from functools import reduce\n",
    "df = reduce(lambda dfL, dfR : pd.merge(dfL, dfR, on=['hhid', 'pn']), allData[:10])\n",
    "df2 = reduce(lambda dfL, dfR : pd.merge(dfL, dfR, on=['hhid', 'pn']), allData[10:20])\n",
    "df3 = reduce(lambda dfL, dfR : pd.merge(dfL, dfR, on=['hhid', 'pn']), allData[20:30])\n",
    "df4 = df.merge(df2, on=['hhid', 'pn'])\n",
    "df_final = df4.merge(df3,on=['hhid', 'pn'])\n",
    "df_final.to_csv('allData.csv')"
   ]
  },
  {
   "cell_type": "markdown",
   "metadata": {},
   "source": [
    "## Export dataframe as stata .dta file"
   ]
  },
  {
   "cell_type": "code",
   "execution_count": null,
   "metadata": {},
   "outputs": [],
   "source": [
    "rand_df.to_stata('rand8-24.dta', version=117, write_index=False)"
   ]
  },
  {
   "cell_type": "markdown",
   "metadata": {},
   "source": [
    "## Miscellaneous"
   ]
  },
  {
   "cell_type": "code",
   "execution_count": null,
   "metadata": {},
   "outputs": [],
   "source": [
    "#changing hhid and pn from type object to int\n",
    "df[\"hhid\"].convert_dtypes(convert_integer=True, convert_string=False)\n",
    "df[\"pn\"] = pd.to_numeric(df[\"pn\"], errors='coerce')\n",
    "\n",
    "#convert object to int\n",
    "#tracker_df[\"hhid\"] = pd.to_numeric(tracker_df[\"hhid\"], errors='coerce')\n",
    "#tracker_df[\"pn\"] = pd.to_numeric(tracker_df[\"pn\"], errors='coerce')"
   ]
  },
  {
   "cell_type": "code",
   "execution_count": null,
   "metadata": {},
   "outputs": [],
   "source": [
    "df[\"hhid\"]"
   ]
  },
  {
   "cell_type": "code",
   "execution_count": null,
   "metadata": {},
   "outputs": [],
   "source": [
    "df[\"pn\"]"
   ]
  },
  {
   "cell_type": "code",
   "execution_count": null,
   "metadata": {},
   "outputs": [],
   "source": [
    "rand_df[\"pn\"] = pd.to_numeric(rand_df[\"pn\"], errors='coerce')"
   ]
  },
  {
   "cell_type": "code",
   "execution_count": null,
   "metadata": {},
   "outputs": [],
   "source": [
    "rand_df[\"pn\"].astype('int64')"
   ]
  },
  {
   "cell_type": "code",
   "execution_count": null,
   "metadata": {},
   "outputs": [],
   "source": []
  }
 ],
 "metadata": {
  "kernelspec": {
   "display_name": "Python 3",
   "language": "python",
   "name": "python3"
  },
  "language_info": {
   "codemirror_mode": {
    "name": "ipython",
    "version": 3
   },
   "file_extension": ".py",
   "mimetype": "text/x-python",
   "name": "python",
   "nbconvert_exporter": "python",
   "pygments_lexer": "ipython3",
   "version": "3.8.5"
  }
 },
 "nbformat": 4,
 "nbformat_minor": 4
}
